{
 "cells": [
  {
   "cell_type": "code",
   "execution_count": 1,
   "metadata": {},
   "outputs": [],
   "source": [
    "import pandas as pd\n",
    "import requests\n",
    "from bs4 import BeautifulSoup\n",
    "\n",
    "machine_url = \"https://gamewith.jp/pokemon-sword-shield/article/show/176281\"\n",
    "\n",
    "res = requests.get(machine_url)\n",
    "res.ecoding = res.apparent_encoding\n",
    "soup = BeautifulSoup(res.text, \"lxml\")"
   ]
  },
  {
   "cell_type": "code",
   "execution_count": 2,
   "metadata": {
    "scrolled": true
   },
   "outputs": [
    {
     "name": "stdout",
     "output_type": "stream",
     "text": [
      "メガトンパンチ\n",
      "メガトンキック\n",
      "ネコにこばん\n",
      "ほのおのパンチ\n",
      "れいとうパンチ\n",
      "かみなりパンチ\n",
      "そらをとぶ\n",
      "ミサイルばり\n",
      "はかいこうせん\n",
      "ギガインパクト\n",
      "マジカルリーフ\n",
      "ソーラービーム\n",
      "ソーラーブレード\n",
      "ほのおのうず\n",
      "でんじは\n",
      "あなをほる\n",
      "いやなおと\n",
      "ひかりのかべ\n",
      "リフレクター\n",
      "しんぴのまもり\n",
      "じばく\n",
      "ねむる\n",
      "いわなだれ\n",
      "どろぼう\n",
      "いびき\n",
      "まもる\n",
      "こわいかお\n",
      "こごえるかぜ\n",
      "ギガドレイン\n",
      "あまえる\n",
      "はがねのつばさ\n",
      "メロメロ\n",
      "すなあらし\n",
      "あまごい\n",
      "にほんばれ\n",
      "あられ\n",
      "うずしお\n",
      "ふくろだたき\n",
      "おにび\n",
      "からげんき\n",
      "スピードスター\n",
      "てだすけ\n",
      "リベンジ\n",
      "かわらわり\n",
      "ふういん\n",
      "ダイビング\n",
      "ウェザーボール\n",
      "うそなき\n",
      "がんせきふうじ\n",
      "すなじごく\n",
      "タネマシンガン\n",
      "つららばり\n",
      "とびはねる\n",
      "マッドショット\n",
      "ロックブラスト\n",
      "しおみず\n",
      "とんぼがえり\n",
      "しっぺがえし\n",
      "ダメおし\n",
      "なげつける\n",
      "パワースワップ\n",
      "ガードスワップ\n",
      "スピードスワップ\n",
      "ドレインパンチ\n",
      "ゆきなだれ\n",
      "シャドークロー\n",
      "かみなりのキバ\n",
      "こおりのキバ\n",
      "ほのおのキバ\n",
      "サイコカッター\n",
      "トリックルーム\n",
      "ワンダールーム\n",
      "マジックルーム\n",
      "クロスポイズン\n",
      "ベノムショック\n",
      "ローキック\n",
      "りんしょう\n",
      "たたりめ\n",
      "アクロバット\n",
      "かたきうち\n",
      "ボルトチェンジ\n",
      "じならし\n",
      "エレキネット\n",
      "シェルブレード\n",
      "スイープビンタ\n",
      "バークアウト\n",
      "ゴーストダイブ\n",
      "ドレインキッス\n",
      "グラスフィールド\n",
      "ミストフィールド\n",
      "エレキフィールド\n",
      "サイコフィールド\n",
      "マジカルフレイム\n",
      "かいでんぱ\n",
      "みねうち\n",
      "エアスラッシュ\n",
      "スマートホーン\n",
      "ぶんまわす\n",
      "じだんだ\n",
      "ワイドブレイカー\n"
     ]
    }
   ],
   "source": [
    "move_records = []\n",
    "for body in soup.findAll(\"div\", {\"id\": \"article-body\"}):\n",
    "    for table in body.findAll(\"table\", {\"class\": \"sorttable\"}):\n",
    "        for tr in table.findAll(\"tr\"):\n",
    "            for td in table.findAll(\"td\"):\n",
    "                if td.a is not None:\n",
    "                    if td.a.text not in move_records:\n",
    "                        move_records.append(td.a.text)\n",
    "                        print(td.a.text)"
   ]
  },
  {
   "cell_type": "code",
   "execution_count": 3,
   "metadata": {},
   "outputs": [
    {
     "data": {
      "text/plain": [
       "100"
      ]
     },
     "execution_count": 3,
     "metadata": {},
     "output_type": "execute_result"
    }
   ],
   "source": [
    "len(move_records)"
   ]
  },
  {
   "cell_type": "code",
   "execution_count": 4,
   "metadata": {},
   "outputs": [
    {
     "data": {
      "text/plain": [
       "100"
      ]
     },
     "execution_count": 4,
     "metadata": {},
     "output_type": "execute_result"
    }
   ],
   "source": [
    "len(set(move_records))"
   ]
  },
  {
   "cell_type": "code",
   "execution_count": 5,
   "metadata": {},
   "outputs": [
    {
     "data": {
      "text/plain": [
       "['エースバーン', 'インテレオン', 'ゴリランダー']"
      ]
     },
     "execution_count": 5,
     "metadata": {},
     "output_type": "execute_result"
    }
   ],
   "source": [
    "[\"エースバーン\", \"インテレオン\", \"ゴリランダー\"]"
   ]
  },
  {
   "cell_type": "markdown",
   "metadata": {},
   "source": [
    "## エースバーン"
   ]
  },
  {
   "cell_type": "code",
   "execution_count": 6,
   "metadata": {},
   "outputs": [],
   "source": [
    "cinderace_url = \"https://yakkun.com/swsh/zukan/n815#machine_move\"\n",
    "\n",
    "res_cinderace = requests.get(cinderace_url)\n",
    "res_cinderace.ecoding = res_cinderace.apparent_encoding\n",
    "soup_cinderace = BeautifulSoup(res_cinderace.content, \"lxml\")\n",
    "#soup_cinderace = BeautifulSoup(res.content, 'html.parser')"
   ]
  },
  {
   "cell_type": "code",
   "execution_count": 7,
   "metadata": {
    "scrolled": false
   },
   "outputs": [
    {
     "name": "stdout",
     "output_type": "stream",
     "text": [
      "メガトンキック\n",
      "ほのおのパンチ\n",
      "はかいこうせん\n",
      "ギガインパクト\n",
      "ほのおのうず\n",
      "ねむる\n",
      "いびき\n",
      "まもる\n",
      "メロメロ\n",
      "にほんばれ\n",
      "からげんき\n",
      "スピードスター\n",
      "てだすけ\n",
      "リベンジ\n",
      "とびはねる\n",
      "マッドショット\n",
      "とんぼがえり\n",
      "ダメおし\n",
      "ほのおのキバ\n",
      "ローキック\n",
      "りんしょう\n",
      "アクロバット\n",
      "バークアウト\n"
     ]
    }
   ],
   "source": [
    "cinderace_moves = []\n",
    "for tr in soup_cinderace.findAll(\"tr\", {\"class\": \"move_main_row\"}):\n",
    "    for td in tr.findAll(\"td\", {\"class\": \"move_condition_cell\"}):\n",
    "        for span in td.findAll(\"span\", {\"class\": \"tm\"}):\n",
    "            print(tr.a.text)\n",
    "            cinderace_moves.append(tr.a.text)"
   ]
  },
  {
   "cell_type": "markdown",
   "metadata": {},
   "source": [
    "## インテレオン"
   ]
  },
  {
   "cell_type": "code",
   "execution_count": 8,
   "metadata": {},
   "outputs": [],
   "source": [
    "inteleon_url = \"https://yakkun.com/swsh/zukan/n818\"\n",
    "\n",
    "res_inteleon = requests.get(inteleon_url)\n",
    "res_inteleon.ecoding = res_inteleon.apparent_encoding\n",
    "soup_inteleon = BeautifulSoup(res_inteleon.content, \"lxml\")"
   ]
  },
  {
   "cell_type": "code",
   "execution_count": 9,
   "metadata": {},
   "outputs": [
    {
     "name": "stdout",
     "output_type": "stream",
     "text": [
      "はかいこうせん\n",
      "ギガインパクト\n",
      "ひかりのかべ\n",
      "リフレクター\n",
      "しんぴのまもり\n",
      "ねむる\n",
      "いびき\n",
      "まもる\n",
      "こごえるかぜ\n",
      "メロメロ\n",
      "あまごい\n",
      "うずしお\n",
      "からげんき\n",
      "スピードスター\n",
      "ダイビング\n",
      "ウェザーボール\n",
      "つららばり\n",
      "とびはねる\n",
      "マッドショット\n",
      "とんぼがえり\n",
      "なげつける\n",
      "りんしょう\n",
      "アクロバット\n",
      "エアスラッシュ\n",
      "ワイドブレイカー\n"
     ]
    }
   ],
   "source": [
    "inteleon_moves = []\n",
    "for tr in soup_inteleon.findAll(\"tr\", {\"class\": \"move_main_row\"}):\n",
    "    for td in tr.findAll(\"td\", {\"class\": \"move_condition_cell\"}):\n",
    "        for span in td.findAll(\"span\", {\"class\": \"tm\"}):\n",
    "            print(tr.a.text)\n",
    "            inteleon_moves.append(tr.a.text)"
   ]
  },
  {
   "cell_type": "markdown",
   "metadata": {},
   "source": [
    "## ゴリランダー"
   ]
  },
  {
   "cell_type": "code",
   "execution_count": 10,
   "metadata": {},
   "outputs": [],
   "source": [
    "rillaboom_url = \"https://yakkun.com/swsh/zukan/n812\"\n",
    "\n",
    "res_rillaboom = requests.get(rillaboom_url)\n",
    "res_rillaboom.ecoding = res_rillaboom.apparent_encoding\n",
    "soup_rillaboom = BeautifulSoup(res_rillaboom.content, \"lxml\")"
   ]
  },
  {
   "cell_type": "code",
   "execution_count": 11,
   "metadata": {},
   "outputs": [
    {
     "name": "stdout",
     "output_type": "stream",
     "text": [
      "メガトンパンチ\n",
      "メガトンキック\n",
      "はかいこうせん\n",
      "ギガインパクト\n",
      "マジカルリーフ\n",
      "ソーラービーム\n",
      "ソーラーブレード\n",
      "いやなおと\n",
      "ねむる\n",
      "いびき\n",
      "まもる\n",
      "こわいかお\n",
      "ギガドレイン\n",
      "メロメロ\n",
      "にほんばれ\n",
      "からげんき\n",
      "スピードスター\n",
      "かわらわり\n",
      "タネマシンガン\n",
      "マッドショット\n",
      "とんぼがえり\n",
      "ダメおし\n",
      "なげつける\n",
      "ドレインパンチ\n",
      "りんしょう\n",
      "アクロバット\n",
      "じならし\n",
      "バークアウト\n",
      "グラスフィールド\n",
      "みねうち\n",
      "ぶんまわす\n",
      "じだんだ\n"
     ]
    }
   ],
   "source": [
    "rillaboom_moves = []\n",
    "for tr in soup_rillaboom.findAll(\"tr\", {\"class\": \"move_main_row\"}):\n",
    "    for td in tr.findAll(\"td\", {\"class\": \"move_condition_cell\"}):\n",
    "        for span in td.findAll(\"span\", {\"class\": \"tm\"}):\n",
    "            print(tr.a.text)\n",
    "            rillaboom_moves.append(tr.a.text)"
   ]
  },
  {
   "cell_type": "markdown",
   "metadata": {},
   "source": [
    "## NetworkX"
   ]
  },
  {
   "cell_type": "code",
   "execution_count": 40,
   "metadata": {},
   "outputs": [
    {
     "data": {
      "text/plain": [
       "('/var/folders/4j/m2jpflqs22g10b45kn35gljc0000gn/T/tmp98t0xt13.png',\n",
       " <AGraph <Swig Object of type 'Agraph_t *' at 0x1163ccb70>>)"
      ]
     },
     "execution_count": 40,
     "metadata": {},
     "output_type": "execute_result"
    }
   ],
   "source": [
    "import japanize_matplotlib\n",
    "import matplotlib.pyplot as plt\n",
    "import networkx as nx\n",
    "\n",
    "G = nx.DiGraph()  # 有向グラフ (Directed Graph)\n",
    "\n",
    "# 頂点の追加\n",
    "G.add_node(\"ゴリランダー\", node_color=\"green\")\n",
    "G.add_node(\"エースバーン\", node_color=\"red\")\n",
    "G.add_node(\"インテレオン\", node_color=\"blue\")\n",
    "G.add_nodes_from(list(movesets), fill_color=\"red\")\n",
    "for move in rillaboom_moves:\n",
    "    G.add_edge(move, \"ゴリランダー\", color=\"green\")\n",
    "for move in cinderace_moves:\n",
    "    G.add_edge(move, \"エースバーン\", color=\"red\")\n",
    "for move in inteleon_moves:\n",
    "    G.add_edge(move, \"インテレオン\", color=\"blue\")\n",
    "\n",
    "\n",
    "\"\"\"G = nx.DiGraph()\n",
    "nx.add_path(G, [3, 5, 4, 1, 0, 2, 7, 8, 9, 6])\n",
    "nx.add_path(G, [3, 0, 6, 4, 2, 7, 1, 9, 8, 5])\n",
    "\"\"\"\n",
    "nx.nx_agraph.view_pygraphviz(G, prog='fdp')\n",
    "#nx.draw_networkx(G)\n",
    "#plt.show()\n"
   ]
  },
  {
   "cell_type": "code",
   "execution_count": 75,
   "metadata": {},
   "outputs": [
    {
     "data": {
      "text/plain": [
       "{1, 2, 3}"
      ]
     },
     "execution_count": 75,
     "metadata": {},
     "output_type": "execute_result"
    }
   ],
   "source": [
    "{1, 2, 3} or {2, 3}"
   ]
  },
  {
   "cell_type": "code",
   "execution_count": 35,
   "metadata": {},
   "outputs": [],
   "source": [
    "movesets = (set(move_records) and set(inteleon_moves)) or (set(move_records) and set(rillaboom_moves)) or (set(move_records) and set(cinderace_moves))"
   ]
  },
  {
   "cell_type": "code",
   "execution_count": 38,
   "metadata": {},
   "outputs": [
    {
     "data": {
      "text/plain": [
       "['リフレクター',\n",
       " 'からげんき',\n",
       " 'ウェザーボール',\n",
       " 'うずしお',\n",
       " 'こごえるかぜ',\n",
       " 'ギガインパクト',\n",
       " 'とんぼがえり',\n",
       " 'ダイビング',\n",
       " 'なげつける',\n",
       " 'ワイドブレイカー',\n",
       " 'はかいこうせん',\n",
       " 'まもる',\n",
       " 'エアスラッシュ',\n",
       " 'ねむる',\n",
       " 'いびき',\n",
       " 'マッドショット',\n",
       " 'しんぴのまもり',\n",
       " 'あまごい',\n",
       " 'ひかりのかべ',\n",
       " 'りんしょう',\n",
       " 'メロメロ',\n",
       " 'つららばり',\n",
       " 'スピードスター',\n",
       " 'とびはねる',\n",
       " 'アクロバット']"
      ]
     },
     "execution_count": 38,
     "metadata": {},
     "output_type": "execute_result"
    }
   ],
   "source": [
    "list(movesets)"
   ]
  },
  {
   "cell_type": "code",
   "execution_count": 83,
   "metadata": {},
   "outputs": [
    {
     "data": {
      "image/png": "[encoded data removed]",
      "text/plain": [
       "<matplotlib.figure.Figure at 0x1137202e8>"
      ]
     },
     "metadata": {},
     "output_type": "display_data"
    }
   ],
   "source": [
    "G = nx.DiGraph()\n",
    "G.add_nodes_from(list(movesets))\n",
    "\n",
    "nx.draw_networkx(G)\n",
    "plt.show()"
   ]
  },
  {
   "cell_type": "code",
   "execution_count": null,
   "metadata": {
    "collapsed": true
   },
   "outputs": [],
   "source": []
  }
 ],
 "metadata": {
  "kernelspec": {
   "display_name": "Python 3",
   "language": "python",
   "name": "python3"
  },
  "language_info": {
   "codemirror_mode": {
    "name": "ipython",
    "version": 3
   },
   "file_extension": ".py",
   "mimetype": "text/x-python",
   "name": "python",
   "nbconvert_exporter": "python",
   "pygments_lexer": "ipython3",
   "version": "3.7.0"
  }
 },
 "nbformat": 4,
 "nbformat_minor": 2
}
